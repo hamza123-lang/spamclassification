{
 "cells": [
  {
   "cell_type": "code",
   "execution_count": 30,
   "id": "e2c7d0d4",
   "metadata": {},
   "outputs": [],
   "source": [
    "#import packages\n",
    "import pandas as pd\n",
    "import numpy as np\n",
    "from sklearn.model_selection import train_test_split\n",
    "from sklearn.feature_extraction.text import CountVectorizer\n",
    "from sklearn.naive_bayes import MultinomialNB\n",
    "from sklearn.metrics import confusion_matrix"
   ]
  },
  {
   "cell_type": "code",
   "execution_count": 4,
   "id": "960be21e",
   "metadata": {},
   "outputs": [],
   "source": [
    "#import data\n",
    "spam_df = pd.read_csv('spam.csv')"
   ]
  },
  {
   "cell_type": "code",
   "execution_count": 6,
   "id": "91cf87cc",
   "metadata": {},
   "outputs": [
    {
     "data": {
      "text/html": [
       "<div>\n",
       "<style scoped>\n",
       "    .dataframe tbody tr th:only-of-type {\n",
       "        vertical-align: middle;\n",
       "    }\n",
       "\n",
       "    .dataframe tbody tr th {\n",
       "        vertical-align: top;\n",
       "    }\n",
       "\n",
       "    .dataframe thead tr th {\n",
       "        text-align: left;\n",
       "    }\n",
       "\n",
       "    .dataframe thead tr:last-of-type th {\n",
       "        text-align: right;\n",
       "    }\n",
       "</style>\n",
       "<table border=\"1\" class=\"dataframe\">\n",
       "  <thead>\n",
       "    <tr>\n",
       "      <th></th>\n",
       "      <th colspan=\"4\" halign=\"left\">Message</th>\n",
       "    </tr>\n",
       "    <tr>\n",
       "      <th></th>\n",
       "      <th>count</th>\n",
       "      <th>unique</th>\n",
       "      <th>top</th>\n",
       "      <th>freq</th>\n",
       "    </tr>\n",
       "    <tr>\n",
       "      <th>Category</th>\n",
       "      <th></th>\n",
       "      <th></th>\n",
       "      <th></th>\n",
       "      <th></th>\n",
       "    </tr>\n",
       "  </thead>\n",
       "  <tbody>\n",
       "    <tr>\n",
       "      <th>ham</th>\n",
       "      <td>4825</td>\n",
       "      <td>4516</td>\n",
       "      <td>Sorry, I'll call later</td>\n",
       "      <td>30</td>\n",
       "    </tr>\n",
       "    <tr>\n",
       "      <th>spam</th>\n",
       "      <td>747</td>\n",
       "      <td>641</td>\n",
       "      <td>Please call our customer service representativ...</td>\n",
       "      <td>4</td>\n",
       "    </tr>\n",
       "  </tbody>\n",
       "</table>\n",
       "</div>"
      ],
      "text/plain": [
       "         Message                                                            \\\n",
       "           count unique                                                top   \n",
       "Category                                                                     \n",
       "ham         4825   4516                             Sorry, I'll call later   \n",
       "spam         747    641  Please call our customer service representativ...   \n",
       "\n",
       "               \n",
       "         freq  \n",
       "Category       \n",
       "ham        30  \n",
       "spam        4  "
      ]
     },
     "execution_count": 6,
     "metadata": {},
     "output_type": "execute_result"
    }
   ],
   "source": [
    "spam_df.groupby('Category').describe()\n"
   ]
  },
  {
   "cell_type": "code",
   "execution_count": 7,
   "id": "77698ed8",
   "metadata": {},
   "outputs": [],
   "source": [
    "spam_df['spam']=spam_df['Category'].apply( lambda x: 1 if x=='spam' else 0 )"
   ]
  },
  {
   "cell_type": "code",
   "execution_count": 8,
   "id": "4a5ce299",
   "metadata": {},
   "outputs": [
    {
     "data": {
      "text/html": [
       "<div>\n",
       "<style scoped>\n",
       "    .dataframe tbody tr th:only-of-type {\n",
       "        vertical-align: middle;\n",
       "    }\n",
       "\n",
       "    .dataframe tbody tr th {\n",
       "        vertical-align: top;\n",
       "    }\n",
       "\n",
       "    .dataframe thead th {\n",
       "        text-align: right;\n",
       "    }\n",
       "</style>\n",
       "<table border=\"1\" class=\"dataframe\">\n",
       "  <thead>\n",
       "    <tr style=\"text-align: right;\">\n",
       "      <th></th>\n",
       "      <th>Category</th>\n",
       "      <th>Message</th>\n",
       "      <th>spam</th>\n",
       "    </tr>\n",
       "  </thead>\n",
       "  <tbody>\n",
       "    <tr>\n",
       "      <th>0</th>\n",
       "      <td>ham</td>\n",
       "      <td>Go until jurong point, crazy.. Available only ...</td>\n",
       "      <td>0</td>\n",
       "    </tr>\n",
       "    <tr>\n",
       "      <th>1</th>\n",
       "      <td>ham</td>\n",
       "      <td>Ok lar... Joking wif u oni...</td>\n",
       "      <td>0</td>\n",
       "    </tr>\n",
       "    <tr>\n",
       "      <th>2</th>\n",
       "      <td>spam</td>\n",
       "      <td>Free entry in 2 a wkly comp to win FA Cup fina...</td>\n",
       "      <td>1</td>\n",
       "    </tr>\n",
       "    <tr>\n",
       "      <th>3</th>\n",
       "      <td>ham</td>\n",
       "      <td>U dun say so early hor... U c already then say...</td>\n",
       "      <td>0</td>\n",
       "    </tr>\n",
       "    <tr>\n",
       "      <th>4</th>\n",
       "      <td>ham</td>\n",
       "      <td>Nah I don't think he goes to usf, he lives aro...</td>\n",
       "      <td>0</td>\n",
       "    </tr>\n",
       "    <tr>\n",
       "      <th>...</th>\n",
       "      <td>...</td>\n",
       "      <td>...</td>\n",
       "      <td>...</td>\n",
       "    </tr>\n",
       "    <tr>\n",
       "      <th>5567</th>\n",
       "      <td>spam</td>\n",
       "      <td>This is the 2nd time we have tried 2 contact u...</td>\n",
       "      <td>1</td>\n",
       "    </tr>\n",
       "    <tr>\n",
       "      <th>5568</th>\n",
       "      <td>ham</td>\n",
       "      <td>Will ü b going to esplanade fr home?</td>\n",
       "      <td>0</td>\n",
       "    </tr>\n",
       "    <tr>\n",
       "      <th>5569</th>\n",
       "      <td>ham</td>\n",
       "      <td>Pity, * was in mood for that. So...any other s...</td>\n",
       "      <td>0</td>\n",
       "    </tr>\n",
       "    <tr>\n",
       "      <th>5570</th>\n",
       "      <td>ham</td>\n",
       "      <td>The guy did some bitching but I acted like i'd...</td>\n",
       "      <td>0</td>\n",
       "    </tr>\n",
       "    <tr>\n",
       "      <th>5571</th>\n",
       "      <td>ham</td>\n",
       "      <td>Rofl. Its true to its name</td>\n",
       "      <td>0</td>\n",
       "    </tr>\n",
       "  </tbody>\n",
       "</table>\n",
       "<p>5572 rows × 3 columns</p>\n",
       "</div>"
      ],
      "text/plain": [
       "     Category                                            Message  spam\n",
       "0         ham  Go until jurong point, crazy.. Available only ...     0\n",
       "1         ham                      Ok lar... Joking wif u oni...     0\n",
       "2        spam  Free entry in 2 a wkly comp to win FA Cup fina...     1\n",
       "3         ham  U dun say so early hor... U c already then say...     0\n",
       "4         ham  Nah I don't think he goes to usf, he lives aro...     0\n",
       "...       ...                                                ...   ...\n",
       "5567     spam  This is the 2nd time we have tried 2 contact u...     1\n",
       "5568      ham               Will ü b going to esplanade fr home?     0\n",
       "5569      ham  Pity, * was in mood for that. So...any other s...     0\n",
       "5570      ham  The guy did some bitching but I acted like i'd...     0\n",
       "5571      ham                         Rofl. Its true to its name     0\n",
       "\n",
       "[5572 rows x 3 columns]"
      ]
     },
     "execution_count": 8,
     "metadata": {},
     "output_type": "execute_result"
    }
   ],
   "source": [
    "spam_df\n"
   ]
  },
  {
   "cell_type": "code",
   "execution_count": 10,
   "id": "16d2f601",
   "metadata": {},
   "outputs": [],
   "source": [
    "x_train , x_test , y_train , y_test =train_test_split(spam_df.Message ,spam_df.spam)"
   ]
  },
  {
   "cell_type": "code",
   "execution_count": 11,
   "id": "f4322ab9",
   "metadata": {},
   "outputs": [
    {
     "data": {
      "text/plain": [
       "5042    She ran off with a younger man. we will make p...\n",
       "5436                           Mode men or have you left.\n",
       "2196    V-aluable. A-ffectionate. L-oveable. E-ternal....\n",
       "3946    I will be gentle princess! We will make sweet ...\n",
       "4398                               When did dad get back.\n",
       "                              ...                        \n",
       "2527       Do u noe how 2 send files between 2 computers?\n",
       "4248    Text PASS to 69669 to collect your polyphonic ...\n",
       "864     Did u find out what time the bus is at coz i n...\n",
       "4683                Haha yeah, 2 oz is kind of a shitload\n",
       "553     Sure, if I get an acknowledgement from you tha...\n",
       "Name: Message, Length: 4179, dtype: object"
      ]
     },
     "execution_count": 11,
     "metadata": {},
     "output_type": "execute_result"
    }
   ],
   "source": [
    "x_train"
   ]
  },
  {
   "cell_type": "code",
   "execution_count": 13,
   "id": "a57ed2f8",
   "metadata": {},
   "outputs": [],
   "source": [
    "cv = CountVectorizer()\n",
    "x_train_count = cv.fit_transform(x_train.values)"
   ]
  },
  {
   "cell_type": "code",
   "execution_count": 18,
   "id": "0c6e26db",
   "metadata": {},
   "outputs": [
    {
     "data": {
      "text/plain": [
       "array([[0, 0, 0, ..., 0, 0, 0],\n",
       "       [0, 0, 0, ..., 0, 0, 0],\n",
       "       [0, 0, 0, ..., 0, 0, 0],\n",
       "       ...,\n",
       "       [0, 0, 0, ..., 0, 0, 0],\n",
       "       [0, 0, 0, ..., 0, 0, 0],\n",
       "       [0, 0, 0, ..., 0, 0, 0]], dtype=int64)"
      ]
     },
     "execution_count": 18,
     "metadata": {},
     "output_type": "execute_result"
    }
   ],
   "source": [
    "x_train_count.toarray()"
   ]
  },
  {
   "cell_type": "code",
   "execution_count": 19,
   "id": "24576c25",
   "metadata": {},
   "outputs": [
    {
     "data": {
      "text/plain": [
       "MultinomialNB()"
      ]
     },
     "execution_count": 19,
     "metadata": {},
     "output_type": "execute_result"
    }
   ],
   "source": [
    "model = MultinomialNB()\n",
    "model.fit(x_train_count , y_train)"
   ]
  },
  {
   "cell_type": "code",
   "execution_count": 24,
   "id": "3dcff24b",
   "metadata": {},
   "outputs": [
    {
     "data": {
      "text/plain": [
       "array([0], dtype=int64)"
      ]
     },
     "execution_count": 24,
     "metadata": {},
     "output_type": "execute_result"
    }
   ],
   "source": [
    "email_ham = ['click money reward ']\n",
    "email_ham_count =cv.transform(email_ham)\n",
    "model.predict(email_ham_count)"
   ]
  },
  {
   "cell_type": "code",
   "execution_count": 39,
   "id": "87ea35d6",
   "metadata": {},
   "outputs": [],
   "source": [
    "x_test_count = cv.transform(x_test)\n",
    "model.score(x_test_count , y_test)\n",
    "nb_y_prediction = model.predict(x_test_count)\n"
   ]
  },
  {
   "cell_type": "code",
   "execution_count": 38,
   "id": "3dc61dec",
   "metadata": {},
   "outputs": [
    {
     "data": {
      "text/plain": [
       "0.9820531227566404"
      ]
     },
     "execution_count": 38,
     "metadata": {},
     "output_type": "execute_result"
    }
   ],
   "source": [
    "from sklearn.linear_model import LogisticRegression\n",
    "lr = LogisticRegression()\n",
    "lr.fit(x_train_count,y_train)\n",
    "lr.score(x_test_count , y_test)"
   ]
  },
  {
   "cell_type": "code",
   "execution_count": 33,
   "id": "87ec76c4",
   "metadata": {},
   "outputs": [],
   "source": [
    "from sklearn.metrics import confusion_matrix \n",
    "lr_y_prediction = lr.predict(x_test_count)"
   ]
  },
  {
   "cell_type": "code",
   "execution_count": 35,
   "id": "5dbfdcfd",
   "metadata": {},
   "outputs": [],
   "source": [
    "cm_lr = confusion_matrix(y_test,lr_y_prediction )\n",
    "cm_nb=confusion_matrix(y_test,nb_y_prediction)"
   ]
  },
  {
   "cell_type": "code",
   "execution_count": 36,
   "id": "5ba1e9a6",
   "metadata": {},
   "outputs": [
    {
     "data": {
      "text/plain": [
       "array([[1213,    4],\n",
       "       [  21,  155]], dtype=int64)"
      ]
     },
     "execution_count": 36,
     "metadata": {},
     "output_type": "execute_result"
    }
   ],
   "source": [
    "cm_lr"
   ]
  },
  {
   "cell_type": "code",
   "execution_count": 37,
   "id": "b85e6080",
   "metadata": {},
   "outputs": [
    {
     "data": {
      "text/plain": [
       "array([[1213,    4],\n",
       "       [  17,  159]], dtype=int64)"
      ]
     },
     "execution_count": 37,
     "metadata": {},
     "output_type": "execute_result"
    }
   ],
   "source": [
    "cm_nb"
   ]
  },
  {
   "cell_type": "markdown",
   "id": "e64d4bc2",
   "metadata": {},
   "source": [
    "# we calculate metrics for logistic regression lr"
   ]
  },
  {
   "cell_type": "code",
   "execution_count": 53,
   "id": "18ca7f2d",
   "metadata": {},
   "outputs": [],
   "source": [
    "tnlr , fplr , fnlr,tplr = cm_lr.ravel()"
   ]
  },
  {
   "cell_type": "code",
   "execution_count": null,
   "id": "3d306de3",
   "metadata": {},
   "outputs": [],
   "source": []
  },
  {
   "cell_type": "code",
   "execution_count": 54,
   "id": "ea476769",
   "metadata": {},
   "outputs": [
    {
     "data": {
      "text/plain": [
       "(1213, 21)"
      ]
     },
     "execution_count": 54,
     "metadata": {},
     "output_type": "execute_result"
    }
   ],
   "source": [
    "tnlr , fnlr"
   ]
  },
  {
   "cell_type": "code",
   "execution_count": 55,
   "id": "948a3aeb",
   "metadata": {},
   "outputs": [],
   "source": [
    "accuracy = (tnlr+tplr)/(tnlr+tplr+fnlr+fplr)"
   ]
  },
  {
   "cell_type": "code",
   "execution_count": 56,
   "id": "cf4571d4",
   "metadata": {},
   "outputs": [
    {
     "data": {
      "text/plain": [
       "0.9820531227566404"
      ]
     },
     "execution_count": 56,
     "metadata": {},
     "output_type": "execute_result"
    }
   ],
   "source": [
    "accuracy"
   ]
  },
  {
   "cell_type": "code",
   "execution_count": 57,
   "id": "4de1a848",
   "metadata": {},
   "outputs": [
    {
     "data": {
      "text/plain": [
       "0.8806818181818182"
      ]
     },
     "execution_count": 57,
     "metadata": {},
     "output_type": "execute_result"
    }
   ],
   "source": [
    "sensitivity =tplr/(tplr+fnlr)\n",
    "sensitivity"
   ]
  },
  {
   "cell_type": "code",
   "execution_count": 58,
   "id": "1e893608",
   "metadata": {},
   "outputs": [
    {
     "data": {
      "text/plain": [
       "0.9967132292522597"
      ]
     },
     "execution_count": 58,
     "metadata": {},
     "output_type": "execute_result"
    }
   ],
   "source": [
    "specificity =tnlr/(tnlr+fplr)\n",
    "specificity"
   ]
  },
  {
   "cell_type": "code",
   "execution_count": 65,
   "id": "533aabc8",
   "metadata": {},
   "outputs": [
    {
     "data": {
      "text/plain": [
       "0.9748427672955975"
      ]
     },
     "execution_count": 65,
     "metadata": {},
     "output_type": "execute_result"
    }
   ],
   "source": [
    "precision = tplr/(tplr+fplr)\n",
    "precision"
   ]
  },
  {
   "cell_type": "code",
   "execution_count": 66,
   "id": "26748bfb",
   "metadata": {},
   "outputs": [
    {
     "data": {
      "text/plain": [
       "0.9829821717990276"
      ]
     },
     "execution_count": 66,
     "metadata": {},
     "output_type": "execute_result"
    }
   ],
   "source": [
    "npv=tnlr/(tnlr+fnlr)\n",
    "npv"
   ]
  },
  {
   "cell_type": "markdown",
   "id": "804c8ad0",
   "metadata": {},
   "source": [
    "# metrics for naive bayes"
   ]
  },
  {
   "cell_type": "code",
   "execution_count": 59,
   "id": "79c69fb1",
   "metadata": {},
   "outputs": [],
   "source": [
    "tnnb , fpnb , fnnb,tpnb = cm_nb.ravel()"
   ]
  },
  {
   "cell_type": "code",
   "execution_count": 60,
   "id": "e3f24f87",
   "metadata": {},
   "outputs": [],
   "source": [
    "accuracynb = (tnnb+tpnb)/(tnnb+tpnb+fnnb+fpnb)"
   ]
  },
  {
   "cell_type": "code",
   "execution_count": 61,
   "id": "ea83c714",
   "metadata": {},
   "outputs": [
    {
     "data": {
      "text/plain": [
       "0.9034090909090909"
      ]
     },
     "execution_count": 61,
     "metadata": {},
     "output_type": "execute_result"
    }
   ],
   "source": [
    "sensitivitynb =tpnb/(tpnb+fnnb)\n",
    "sensitivitynb"
   ]
  },
  {
   "cell_type": "code",
   "execution_count": 62,
   "id": "5ce6bc32",
   "metadata": {},
   "outputs": [
    {
     "data": {
      "text/plain": [
       "0.9967132292522597"
      ]
     },
     "execution_count": 62,
     "metadata": {},
     "output_type": "execute_result"
    }
   ],
   "source": [
    "specificitynb =tnnb/(tnnb+fpnb)\n",
    "specificitynb"
   ]
  },
  {
   "cell_type": "code",
   "execution_count": 67,
   "id": "c0b656ec",
   "metadata": {},
   "outputs": [
    {
     "data": {
      "text/plain": [
       "0.9754601226993865"
      ]
     },
     "execution_count": 67,
     "metadata": {},
     "output_type": "execute_result"
    }
   ],
   "source": [
    "precisionnb = tpnb/(tpnb+fpnb)\n",
    "precisionnb"
   ]
  },
  {
   "cell_type": "code",
   "execution_count": 72,
   "id": "406b0c0d",
   "metadata": {},
   "outputs": [
    {
     "data": {
      "text/plain": [
       "0.9861788617886179"
      ]
     },
     "execution_count": 72,
     "metadata": {},
     "output_type": "execute_result"
    }
   ],
   "source": [
    "npvnb=tnnb/(tnnb+fnnb)\n",
    "npvnb"
   ]
  },
  {
   "cell_type": "code",
   "execution_count": null,
   "id": "8696da2e",
   "metadata": {},
   "outputs": [],
   "source": []
  }
 ],
 "metadata": {
  "kernelspec": {
   "display_name": "Python 3 (ipykernel)",
   "language": "python",
   "name": "python3"
  },
  "language_info": {
   "codemirror_mode": {
    "name": "ipython",
    "version": 3
   },
   "file_extension": ".py",
   "mimetype": "text/x-python",
   "name": "python",
   "nbconvert_exporter": "python",
   "pygments_lexer": "ipython3",
   "version": "3.9.12"
  }
 },
 "nbformat": 4,
 "nbformat_minor": 5
}
